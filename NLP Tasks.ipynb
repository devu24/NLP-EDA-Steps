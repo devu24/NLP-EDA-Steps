{
 "cells": [
  {
   "cell_type": "markdown",
   "id": "a8034a31",
   "metadata": {},
   "source": [
    "# Cleaning and Preprocessing Text Data in Pandas for NLP Tasks"
   ]
  },
  {
   "cell_type": "markdown",
   "id": "b06c9d6b",
   "metadata": {},
   "source": [
    "### Load the Data into a Pandas DataFrame\n"
   ]
  },
  {
   "cell_type": "code",
   "execution_count": 1,
   "id": "f5a4f7cf",
   "metadata": {},
   "outputs": [
    {
     "name": "stdout",
     "output_type": "stream",
     "text": [
      "                         text\n",
      "0             I love cooking!\n",
      "1               Baking is fun\n",
      "2                        None\n",
      "3  Japanese cuisine is great!\n"
     ]
    }
   ],
   "source": [
    "import pandas as pd\n",
    "data = {'text': [\"I love cooking!\", \"Baking is fun\", None, \"Japanese cuisine is great!\"]}\n",
    "df = pd.DataFrame(data)\n",
    "print(df)"
   ]
  },
  {
   "cell_type": "markdown",
   "id": "0732d5bb",
   "metadata": {},
   "source": [
    "### Handle Missing Values\n"
   ]
  },
  {
   "cell_type": "code",
   "execution_count": 2,
   "id": "5c466439",
   "metadata": {},
   "outputs": [
    {
     "name": "stdout",
     "output_type": "stream",
     "text": [
      "                         text\n",
      "0             I love cooking!\n",
      "1               Baking is fun\n",
      "3  Japanese cuisine is great!\n"
     ]
    }
   ],
   "source": [
    "df.dropna(subset=['text'], inplace=True)\n",
    "print(df)"
   ]
  },
  {
   "cell_type": "code",
   "execution_count": 3,
   "id": "ea668e06",
   "metadata": {},
   "outputs": [],
   "source": [
    "### Normalize the Text to Make it Consistent"
   ]
  },
  {
   "cell_type": "code",
   "execution_count": 4,
   "id": "39daf17e",
   "metadata": {},
   "outputs": [
    {
     "name": "stdout",
     "output_type": "stream",
     "text": [
      "                         text\n",
      "0             i love cooking!\n",
      "1               baking is fun\n",
      "3  japanese cuisine is great!\n"
     ]
    }
   ],
   "source": [
    "df['text'] = df['text'].str.lower()\n",
    "print(df)"
   ]
  },
  {
   "cell_type": "markdown",
   "id": "60208365",
   "metadata": {},
   "source": [
    "### Remove Noise"
   ]
  },
  {
   "cell_type": "code",
   "execution_count": 5,
   "id": "df60d080",
   "metadata": {},
   "outputs": [
    {
     "name": "stdout",
     "output_type": "stream",
     "text": [
      "                        text\n",
      "0             i love cooking\n",
      "1              baking is fun\n",
      "3  japanese cuisine is great\n"
     ]
    }
   ],
   "source": [
    "import re\n",
    "df['text'] = df['text'].apply(lambda x: re.sub(r'[^\\w\\s]', '', x))\n",
    "print(df)"
   ]
  },
  {
   "cell_type": "markdown",
   "id": "c2ea6e8e",
   "metadata": {},
   "source": [
    "### Tokenize the Text"
   ]
  },
  {
   "cell_type": "code",
   "execution_count": 6,
   "id": "8c6dd5a4",
   "metadata": {},
   "outputs": [
    {
     "name": "stdout",
     "output_type": "stream",
     "text": [
      "                        text                          tokens\n",
      "0             i love cooking              [i, love, cooking]\n",
      "1              baking is fun               [baking, is, fun]\n",
      "3  japanese cuisine is great  [japanese, cuisine, is, great]\n"
     ]
    }
   ],
   "source": [
    "df['tokens'] = df['text'].str.split()\n",
    "print(df)"
   ]
  },
  {
   "cell_type": "markdown",
   "id": "98e324af",
   "metadata": {},
   "source": [
    "### Remove Stop Words"
   ]
  },
  {
   "cell_type": "code",
   "execution_count": 7,
   "id": "242a5860",
   "metadata": {},
   "outputs": [
    {
     "name": "stdout",
     "output_type": "stream",
     "text": [
      "0               [love, cooking]\n",
      "1                 [baking, fun]\n",
      "3    [japanese, cuisine, great]\n",
      "Name: tokens, dtype: object\n"
     ]
    },
    {
     "name": "stderr",
     "output_type": "stream",
     "text": [
      "[nltk_data] Downloading package stopwords to\n",
      "[nltk_data]     C:\\Users\\rahul\\AppData\\Roaming\\nltk_data...\n",
      "[nltk_data]   Package stopwords is already up-to-date!\n"
     ]
    }
   ],
   "source": [
    "import nltk\n",
    "from nltk.corpus import stopwords\n",
    "nltk.download('stopwords')\n",
    "stop_words = set(stopwords.words('english'))\n",
    "df['tokens'] = df['tokens'].apply(lambda x: [word for word in x if word not in stop_words])\n",
    "print(df['tokens'])"
   ]
  },
  {
   "cell_type": "markdown",
   "id": "6b4b0b09",
   "metadata": {},
   "source": [
    "### Stemming and Lemmatization"
   ]
  },
  {
   "cell_type": "code",
   "execution_count": 8,
   "id": "8feb6723",
   "metadata": {},
   "outputs": [
    {
     "name": "stdout",
     "output_type": "stream",
     "text": [
      "                       tokens                   stemmed\n",
      "0             [love, cooking]              [love, cook]\n",
      "1               [baking, fun]               [bake, fun]\n",
      "3  [japanese, cuisine, great]  [japanes, cuisin, great]\n"
     ]
    },
    {
     "name": "stderr",
     "output_type": "stream",
     "text": [
      "[nltk_data] Downloading package wordnet to\n",
      "[nltk_data]     C:\\Users\\rahul\\AppData\\Roaming\\nltk_data...\n",
      "[nltk_data]   Package wordnet is already up-to-date!\n"
     ]
    }
   ],
   "source": [
    "from nltk.stem import PorterStemmer\n",
    "nltk.download('wordnet')\n",
    "stemmer = PorterStemmer()\n",
    "df['stemmed'] = df['tokens'].apply(lambda x: [stemmer.stem(word) for word in x])\n",
    "print(df[['tokens','stemmed']])"
   ]
  },
  {
   "cell_type": "markdown",
   "id": "612a4d06",
   "metadata": {},
   "source": [
    "### Convert Text into Numerical Representations"
   ]
  },
  {
   "cell_type": "code",
   "execution_count": 9,
   "id": "961c8942",
   "metadata": {},
   "outputs": [
    {
     "name": "stdout",
     "output_type": "stream",
     "text": [
      "[[0.         0.70710678 0.         0.         0.         0.\n",
      "  0.70710678]\n",
      " [0.70710678 0.         0.         0.70710678 0.         0.\n",
      "  0.        ]\n",
      " [0.         0.         0.57735027 0.         0.57735027 0.57735027\n",
      "  0.        ]]\n"
     ]
    }
   ],
   "source": [
    "from sklearn.feature_extraction.text import TfidfVectorizer\n",
    "df['text'] = df['tokens'].apply(lambda x: ' '.join(x))\n",
    "vectorizer = TfidfVectorizer()\n",
    "X = vectorizer.fit_transform(df['text'])\n",
    "print(X.toarray())"
   ]
  },
  {
   "cell_type": "code",
   "execution_count": null,
   "id": "f43e6dab",
   "metadata": {},
   "outputs": [],
   "source": []
  },
  {
   "cell_type": "code",
   "execution_count": null,
   "id": "3cbadae0",
   "metadata": {},
   "outputs": [],
   "source": []
  },
  {
   "cell_type": "code",
   "execution_count": null,
   "id": "44f9edad",
   "metadata": {},
   "outputs": [],
   "source": []
  }
 ],
 "metadata": {
  "kernelspec": {
   "display_name": "Python 3 (ipykernel)",
   "language": "python",
   "name": "python3"
  },
  "language_info": {
   "codemirror_mode": {
    "name": "ipython",
    "version": 3
   },
   "file_extension": ".py",
   "mimetype": "text/x-python",
   "name": "python",
   "nbconvert_exporter": "python",
   "pygments_lexer": "ipython3",
   "version": "3.9.13"
  }
 },
 "nbformat": 4,
 "nbformat_minor": 5
}
